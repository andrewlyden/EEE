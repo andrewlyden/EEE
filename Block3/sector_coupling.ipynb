{
 "cells": [
  {
   "cell_type": "markdown",
   "metadata": {},
   "source": [
    "# Sector Coupling"
   ]
  },
  {
   "cell_type": "markdown",
   "metadata": {},
   "source": [
    "https://nworbmot.org/courses/es-23/es-13-sector_coupling.pdf"
   ]
  }
 ],
 "metadata": {
  "kernelspec": {
   "display_name": "EEE",
   "language": "python",
   "name": "python3"
  },
  "language_info": {
   "name": "python",
   "version": "3.11.6"
  }
 },
 "nbformat": 4,
 "nbformat_minor": 2
}
