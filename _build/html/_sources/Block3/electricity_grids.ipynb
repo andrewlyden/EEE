{
 "cells": [
  {
   "cell_type": "markdown",
   "metadata": {},
   "source": [
    "# Electricity Grids"
   ]
  },
  {
   "cell_type": "markdown",
   "metadata": {},
   "source": [
    "We have looked at the basics of energy market operation, and we will now extend this to include physical electricity grids. Grids are generally divided into a transmission network (the large-scale high-voltage infrastructure to which large power stations, as well as some large consumers such as aluminium smelters are connected, and a number of distribution networks, which connect to the transmission network at grid supply points, and serve all other consumers through a network of lower-voltage lines, as well as smaller power producers. \n",
    "\n",
    "There are different models for how these systems are operated. In some places, including parts of the US, most African and some Asian countries (and most others in the past), electricity systems are operated by vertically integrated utilities. These are state-owned or private (but heavily regulated) companies that own some or all of the electricity generation capacity and the networks, and sell energy directly to consumers. This can have advantages - planning an integrated network is easier, and there might be economies of scale (doing things at a larger scale is generally cheaper) which could lead to lower prices for consumers. However, vertically integrated utilities have monopolies, and the general consensus is that companies are more efficiency (e.g., because they have more of an incentive to innovate) if there is competition. Of course, competition on the networks side is not generally possible - it would be inefficient to have parallel networks owned by competing companies. Competition in wholesale and consumer electricity markets is difficult to facilitate if there is a vertically integrated utility, as this utility could, for instance, give priority to its own generators when it comes to use of the network. Most countries have therefore gone through a process of unbundling, splitting up vertically integrated utilities into a separate company that looks after the network, and a number of companies that compete in the electricity market and then pay the network operator for use of the network. Some developing countries are halfway through this process, having unbundled but not yet allowing full competition in either consumer markets and/or wholesale markets - instead, they might, for instance, have a single buyer - a public body that is the only buyer in wholesale markets and which alone sells to consumers.\n",
    "\n",
    "In what follows, we will focus on liberalised markets that have gone through the unbundling process - as this is where most developed energy markets currently either are or are in the process of moving towards. In these markets, each distribution network has a distribution network operator (DNO) which is responsible for making sure its operation runs smoothly. Distribution networks are often (but not always) radial, with the grid supply point on one side, from which a number of lines at lower voltages split off; further down the line, each of these lines is then further split, etc. - until we reach the feeders that connect, e.g., individual households. These networks used to be easy to manage. All DNOs really had to do was build more lines if there was ever a danger of flows exceeding safe limits. Currently, their job is becoming a lot harder as more and more renewables are connected to distribution networks. This can cause local congestion and voltage problems, among others, which need to be actively managed. DNOs are therefore reinventing themselves as distribution system operators (DSOs) which take a much more active role in network management. Some are, for instance, experimenting with local markets through which industrial or residential consumers can offer to decrease or increase their electricity demand to, e.g., help the DSO manage congestion. This is an interesting new area of energy market design, which we do not have time to go into in detail in this course.\n",
    "\n",
    "Transmission networks also have a system operator. In Europe, these are mostly Transmission System Operators (TSOs), which are responsible for operating the transmission networks and also generally own the infrastructure and decide where to expand it. The US has Regional Transmission Organisations (RTOs), which are broadly similar, and Independent System Operators (ISOs) which operate the infrastructure but do not own it - in areas with ISOs there will be a separate transmission owner which is paid by the ISO for its infrastructure. These organisations have several jobs to do. These include:\n",
    "- Decide on transmission expansion (if they own the infrastructure): we'll look at this next week\n",
    "- Make sure the supply/demand balance is maintained at all times. Grid operators need to ensure that they have enough reserve capacity to meet any unexpected increase in demand or decrease in supply. These reserves are generally procured in markets (in which generators can bid), but the details of these depend on the country we're talking about, and on the timescale.\n",
    "- Make sure they can recover the system in case of blackouts. Again, grid operators can procure black start capability (i.e. the ability to start generating even when you're not connected to a power source - something many generators cannot do as they need electricity to start their turbines and/or operate their safety mechanisms) in a market they design.\n",
    "- Ensure that no line limits are exceeded. If power flows on a line are higher than its maximum capacity, transmission lines (which are, essentially, big chunks of metal) will start to heat up and expand. This can cause short circuits, as well as other types of damage. Transformers and other bits of kit connecting lines can also be damaged if their capacities are exceeded. Worse, if lines or transformers are damaged, the effects of this can quickly spread throughout a network, as power flows transfer to other lines, which are then subsequently overloaded. It is therefore important to respect the physical limits of the network. Ensuring this is called congestion management.\n",
    "- Sometimes grid operators also run the market - i.e. the platforms which electricity market participants use to trade.\n",
    "(as well as a number of other things).\n",
    "\n",
    "In this notebook, we'll focus on congestion management. The economics element of the other tasks is easier - e.g. for reserves, TSOs simply need to figure out how much they need (which isn't straightforward at all but not primarily an economics problem) and invite generators to bid, for instance, the amount of money they would need to provide this reserve capacity. The TSO can then select the cheapest generators. Congestion management is harder because it is intimately related to the design of wholesale markets itself. There are roughly speaking, three approaches. Most European markets have a market design which is sometimes called uniform pricing or copperplate pricing in which physical networks are ignored by the market and TSOs manage congestion afterwards. Most N and S American/Australian markets have a design called nodal pricing which incorporates physical constraints in the market itself. In between, Scandinavian countries (and some others) have a system called zonal pricing. We'll go through these in turn to explore how markets and physical networks interact in each of them, and what the difference is. Finally, we'll look at a more advanced issue that comes up primarily in nodal pricing markets, as a taster to show you what interesting areas for future research exist and just how complicated electricity markets can get.\n",
    "\n",
    "This is not an electrical engineering course, so like in the previous notebook we will conveniently ignore the intricacies of alternating current networks (and therefore, reactive power; markets for reactive power also exist) - instead I'll use a DC approximation. As before, we will also confine ourselves to wholesale markets, which is where most of the action happens anyway."
   ]
  },
  {
   "cell_type": "markdown",
   "metadata": {},
   "source": [
    "## Uniform pricing"
   ]
  },
  {
   "cell_type": "markdown",
   "metadata": {},
   "source": [
    "In a uniform pricing market, the electricity market ignores any physical constraints. Electricity can be traded from anywhere to anywhere, without any consideration of where it is produced or consumed. This means there is one single price for the entire market in each time period. Of course, this might result in power flows violating physical limits. Wholesale market participants therefore have to inform the system operator what they are planning to produce/consume, at gate closure, which is usually an hour (UK) to 15 minutes (some US markets) before delivery. After gate closure, the system operator calculates power flows, and if these are found to violate physical constraints, the system operator can redispatch generators - asking some to increase production, and some to decrease production (and paying them for this!), until flow limits are satisfied. \n",
    "\n",
    "The widget below lets you experiment with this. This is a snapshot model, which only considers one time period (1 hour long, such that MW=MWh as before). The system consists of three nodes, or buses, connected by three lines with equal reactances - you can set the line capacities. At each bus, there are two generators, one cheap, and one expensive. The market is assumed to be perfectly competitive - generators bid their costs. Demand is fixed (so completely inelastic). There are no start-up costs, unit commitment decisions, minimum run levels, etc.\n",
    "\n",
    "Demand at each bus is fixed (i.e. perfectly inelastic) and equal to 15MWh in this time period. The capacity of the expensive generators (g2, g4, g6) is large enough to never be a constraint. You can set the capacity of the cheaper generators (g1, g3, g5). Generation costs are:\n",
    "\n",
    "g1: £10/MWh\n",
    "g2: £40/MWh\n",
    "g3: £20/MWh\n",
    "g4: £50/MWh\n",
    "g5: £30/MWh\n",
    "g6: £60/MWh\n",
    "\n",
    "The figure on the left shows generation levels, demand, and line flows that are predicted at gate closure. Line flows are green if no constraints are violated, and red if they are. The figure on the right shows the amount of redispatch (e.g., if this is 5, it means that generator is asked to increase its production by 5MW; if it is -5 that generator is asked to decrease its production by 5MW) and the resulting line flows.\n",
    "\n",
    "Play around with this model. Do you understand why Do you understand why prices are what they are? When are redispatch costs the highest? "
   ]
  },
  {
   "cell_type": "code",
   "execution_count": 2,
   "metadata": {},
   "outputs": [
    {
     "data": {
      "text/html": [
       "\n",
       "        <iframe\n",
       "            width=\"800\"\n",
       "            height=\"850\"\n",
       "            src=\"https://eee-apps-836a08e1d2dd.herokuapp.com/electricity-grids-1\"\n",
       "            frameborder=\"0\"\n",
       "            allowfullscreen\n",
       "            \n",
       "        ></iframe>\n",
       "        "
      ],
      "text/plain": [
       "<IPython.lib.display.IFrame at 0x26eb7c7a490>"
      ]
     },
     "execution_count": 2,
     "metadata": {},
     "output_type": "execute_result"
    }
   ],
   "source": [
    "from IPython.display import IFrame\n",
    "IFrame('https://eee-apps-836a08e1d2dd.herokuapp.com/electricity-grids-1', width=800, height=850)"
   ]
  }
 ],
 "metadata": {
  "kernelspec": {
   "display_name": "EEE",
   "language": "python",
   "name": "python3"
  },
  "language_info": {
   "codemirror_mode": {
    "name": "ipython",
    "version": 3
   },
   "file_extension": ".py",
   "mimetype": "text/x-python",
   "name": "python",
   "nbconvert_exporter": "python",
   "pygments_lexer": "ipython3",
   "version": "3.11.6"
  }
 },
 "nbformat": 4,
 "nbformat_minor": 2
}
