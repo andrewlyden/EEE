{
 "cells": [
  {
   "cell_type": "markdown",
   "metadata": {},
   "source": [
    "# Electricity Grids"
   ]
  },
  {
   "cell_type": "markdown",
   "metadata": {},
   "source": [
    "We have looked at the basics of energy market operation, and we will now extend this to include physical electricity grids. Grids are generally divided into a transmission network (the large-scale high-voltage infrastructure to which large power stations, as well as some large consumers such as aluminium smelters are connected, and a number of distribution networks, which connect to the transmission network at grid supply points, and serve all other consumers through a network of lower-voltage lines, as well as smaller power producers. \n",
    "\n",
    "There are different models for how these systems are operated. In some places, including parts of the US, most African and some Asian countries (and most others in the past), electricity systems are operated by vertically integrated utilities. These are state-owned or private (but heavily regulated) companies that own some or all of the electricity generation capacity and the networks, and sell energy directly to consumers. This can have advantages - planning an integrated network is easier, and there might be economies of scale (doing things at a larger scale is generally cheaper) which could lead to lower prices for consumers. However, vertically integrated utilities have monopolies, and the general consensus is that companies are more efficiency (e.g., because they have more of an incentive to innovate) if there is competition. Of course, competition on the networks side is not generally possible - it would be inefficient to have parallel networks owned by competing companies. Competition in wholesale and consumer electricity markets is difficult to facilitate if there is a vertically integrated utility, as this utility could, for instance, give priority to its own generators when it comes to use of the network. Most countries have therefore gone through a process of unbundling, splitting up vertically integrated utilities into a separate company that looks after the network, and a number of companies that compete in the electricity market and then pay the network operator for use of the network. Some developing countries are halfway through this process, having unbundled but not yet allowing full competition in either consumer markets and/or wholesale markets - instead, they might, for instance, have a single buyer - a public body that is the only buyer in wholesale markets and which alone sells to consumers.\n",
    "\n",
    "In what follows, we will focus on liberalised markets that have gone through the unbundling process - as this is where most developed energy markets currently either are or are in the process of moving towards. In these markets, each distribution network has a distribution network operator (DNO) which is responsible for making sure its operation runs smoothly. Distribution networks are often (but not always) radial, with the grid supply point on one side, from which a number of lines at lower voltages split off; further down the line, each of these lines is then further split, etc. - until we reach the feeders that connect, e.g., individual households. These networks used to be easy to manage. All DNOs really had to do was build more lines if there was ever a danger of flows exceeding safe limits. Currently, their job is becoming a lot harder as more and more renewables are connected to distribution networks. This can cause local congestion and voltage problems, among others, which need to be actively managed. DNOs are therefore reinventing themselves as distribution system operators (DSOs) which take a much more active role in network management. Some are, for instance, experimenting with local markets through which industrial or residential consumers can offer to decrease or increase their electricity demand to, e.g., help the DSO manage congestion. This is an interesting new area of energy market design, which we do not have time to go into in detail in this course.\n",
    "\n",
    "Transmission networks also have a system operator. In Europe, these are mostly Transmission System Operators (TSOs), which are responsible for operating the transmission networks and also generally own the infrastructure and decide where to expand it. The US has Regional Transmission Organisations (RTOs), which are broadly similar, and Independent System Operators (ISOs) which operate the infrastructure but do not own it - in areas with ISOs there will be a separate transmission owner which is paid by the ISO for its infrastructure. These organisations have several jobs to do. These include:\n",
    "- Decide on transmission expansion (if they own the infrastructure).\n",
    "- Make sure the supply/demand balance is maintained at all times. Grid operators need to ensure that they have enough reserve capacity to meet any unexpected increase in demand or decrease in supply. These reserves are generally procured in markets (in which generators can bid), but the details of these depend on the country we're talking about, and on the timescale.\n",
    "- Make sure they can recover the system in case of blackouts. Again, grid operators can procure black start capability (i.e. the ability to start generating even when you're not connected to a power source - something many generators cannot do as they need electricity to start their turbines and/or operate their safety mechanisms) in a market they design.\n",
    "- Ensure that no line limits are exceeded. If power flows on a line are higher than its maximum capacity, transmission lines (which are, essentially, big chunks of metal) will start to heat up and expand. This can cause short circuits, as well as other types of damage. Transformers and other bits of kit connecting lines can also be damaged if their capacities are exceeded. Worse, if lines or transformers are damaged, the effects of this can quickly spread throughout a network, as power flows transfer to other lines, which are then subsequently overloaded. It is therefore important to respect the physical limits of the network. Ensuring this is called congestion management.\n",
    "- Sometimes grid operators also run the market - i.e. the platforms which electricity market participants use to trade.\n",
    "(as well as a number of other things).\n",
    "\n",
    "In this notebook, we'll focus on congestion management. The economics element of the other tasks is easier - e.g. for reserves, TSOs simply need to figure out how much they need (which isn't straightforward at all but not primarily an economics problem) and invite generators to bid, for instance, the amount of money they would need to provide this reserve capacity. The TSO can then select the cheapest generators. Congestion management is harder because it is intimately related to the design of wholesale markets itself. There are roughly speaking, three approaches. Most European markets have a market design which is sometimes called uniform pricing or copperplate pricing in which physical networks are ignored by the market and TSOs manage congestion afterwards. Most N and S American/Australian markets have a design called nodal pricing which incorporates physical constraints in the market itself. In between, Scandinavian countries (and some others) have a system called zonal pricing. We'll go through these in turn to explore how markets and physical networks interact in each of them, and what the difference is.\n",
    "\n",
    "This is not an electrical engineering course, so we will conveniently ignore the intricacies of alternating current networks (and therefore, reactive power; markets for reactive power also exist) - instead I'll use a DC approximation. We will also confine ourselves to wholesale markets, which is where most of the action happens anyway."
   ]
  },
  {
   "cell_type": "markdown",
   "metadata": {},
   "source": [
    "## Uniform pricing"
   ]
  },
  {
   "cell_type": "markdown",
   "metadata": {},
   "source": [
    "In a uniform pricing market, the wholesale electricity market ignores any physical constraints. Electricity can be traded from anywhere to anywhere, without any consideration of where it is produced or consumed. This means there is one single price for the entire market in each time period. Of course, this might result in power flows violating physical limits. Wholesale market participants therefore have to inform the system operator what they are planning to produce/consume, at gate closure, which is usually an hour (UK) to 15 minutes (some US markets) before delivery. After gate closure, the system operator calculates power flows, and if these are found to violate physical constraints, the system operator can redispatch generators - asking some to increase production, and some to decrease production (and paying them for this!), until flow limits are satisfied. \n",
    "\n",
    "This can be considered a two stage process:- 1) Wholesale market without network constraints, and 2) Redispatch with network constraints.\n",
    "\n",
    "The widget below lets you experiment with this. This is a snapshot model, which only considers one time period (1 hour long, such that MW=MWh as before). The system consists of three nodes, or buses, connected by three lines with equal reactances - you can set the line capacities. At each bus, there are two generators, one cheap wind generator, and one expensive gas generator. The market is assumed to be perfectly competitive - generators bid their costs. Demand is fixed (so completely inelastic). There are no start-up costs, unit commitment decisions, minimum run levels, etc.\n",
    "\n",
    "Demand at each bus is fixed (i.e. perfectly inelastic), Scotland = 2000 MWh, Wales = 1000 MWh, and England = 4000 MWh. \n",
    "\n",
    "You can set the capacity of the wind and gas generators. Generation costs are set at 10.05 £/MWh for gas generation and 0 £/MWh for wind generation.\n",
    "\n",
    "The figure below shows the unified price which is the wholesale electricity price without network constraints at the top, and the redispatch stage below. \n",
    "\n",
    "Play around with this model. \n",
    "- Try setting the transmission capacities to zero. \n",
    "- Try changing the wind capacity and transmission capacities to achieve zero redispatch costs.\n",
    "- Do you understand why prices are what they are? \n",
    "- When are redispatch costs the highest? \n",
    "\n",
    "Note 1 - The gas capacities are set to the demand in order for the process to be feasible, you may get infeasible models if you set gas capacity too low and there is insufficient generation to meet demand.\n",
    "\n",
    "Note 2 - Wind generation is less than the wind capacity. Why is this? And can you identify the wind availability fraction for each country?"
   ]
  },
  {
   "cell_type": "code",
   "execution_count": 8,
   "metadata": {
    "tags": [
     "hide-input"
    ]
   },
   "outputs": [
    {
     "data": {
      "text/html": [
       "\n",
       "        <iframe\n",
       "            width=\"800\"\n",
       "            height=\"1850\"\n",
       "            src=\"https://eee-apps-836a08e1d2dd.herokuapp.com/electricity-grids-1\"\n",
       "            frameborder=\"0\"\n",
       "            allowfullscreen\n",
       "            \n",
       "        ></iframe>\n",
       "        "
      ],
      "text/plain": [
       "<IPython.lib.display.IFrame at 0x175c06ae650>"
      ]
     },
     "execution_count": 8,
     "metadata": {},
     "output_type": "execute_result"
    }
   ],
   "source": [
    "from IPython.display import IFrame\n",
    "IFrame('https://eee-apps-836a08e1d2dd.herokuapp.com/electricity-grids-1', width=800, height=1850)"
   ]
  },
  {
   "cell_type": "markdown",
   "metadata": {},
   "source": [
    "## Bidding strategies in redispatch"
   ]
  },
  {
   "cell_type": "markdown",
   "metadata": {},
   "source": [
    "The above example assumes that generators bids at the redispatch stage is at their marginal costs, however, in practice this is not always the case. Generators can bid to reduce their output at a price, and also offer to increase their generation for a higher price than marginal cost.\n",
    "\n",
    "The below widget is the same as the above, but with two key differences in assumptions.\n",
    "- Ramping up a generator is twice as expensive as marginal cost.\n",
    "- Generators need to be compensated for curtailing them or ramping them down at 50% of their marginal cost.\n",
    "\n",
    "Are the resultant dispatch costs higher or lower? Do you understand why? Compare with the costs with the widget above."
   ]
  },
  {
   "cell_type": "code",
   "execution_count": 9,
   "metadata": {
    "tags": [
     "hide-input"
    ]
   },
   "outputs": [
    {
     "data": {
      "text/html": [
       "\n",
       "        <iframe\n",
       "            width=\"800\"\n",
       "            height=\"1850\"\n",
       "            src=\"https://eee-apps-836a08e1d2dd.herokuapp.com/electricity-grids-2\"\n",
       "            frameborder=\"0\"\n",
       "            allowfullscreen\n",
       "            \n",
       "        ></iframe>\n",
       "        "
      ],
      "text/plain": [
       "<IPython.lib.display.IFrame at 0x175c0861650>"
      ]
     },
     "execution_count": 9,
     "metadata": {},
     "output_type": "execute_result"
    }
   ],
   "source": [
    "from IPython.display import IFrame\n",
    "IFrame('https://eee-apps-836a08e1d2dd.herokuapp.com/electricity-grids-2', width=800, height=1850)"
   ]
  },
  {
   "cell_type": "markdown",
   "metadata": {},
   "source": [
    "## Nodal pricing"
   ]
  },
  {
   "cell_type": "markdown",
   "metadata": {},
   "source": [
    "In a nodal pricing market, all producers (generators) and consumers (utilities and large industrial consumers) submit their bids to a market operator (which might be, e.g., the ISO). These are generally block bids -i.e. combinations of prices and quantities. A generator might, for instance, say it’s willing to generate 10MW for an hour for £40/MWh, another 10 MW during the same hour for £45/MWh, etc. If markets are perfectly competitive, these bids will reflect costs/willingness to pay, i.e. together they will constitute a demand and supply curve. The market operator then solves and optimisation problem that maximises the social surplus. Importantly, this optimisation problem includes all network constraints. Having found the optimal dispatch, the market operator will then instruct the generators and consumers, telling them how much to generate. Generators are paid/consumers will pay the local marginal cost of electricity, called the locational marginal price (LMP) or nodal price. These prices can be different at every single bus in the network. While most European electricity markets use uniform pricing, most US markets use nodal pricing. \n",
    "\n",
    "If there are no network constraints anywhere, the marginal cost of electricity (i.e. the cost of the last unit generated) will be equal everywhere - it will be the marginal cost of the cheapest generator that still has availability. However, if there are constrained lines, there will be price differences. If a bus is export-constrained, i.e. low-cost generation is available locally but flows going out of the bus cannot be increased without violating line limits, LMPs at that bus will be low. If a bus is import-constrained, i.e. there is demand but no local low-cost generation and power cannot be brought in from the rest of the network, LMPs will be high.\n",
    "\n",
    "The model below will let you explore this - the setting is the same as in the model above, but prices (i.e. marginal costs) are now calculated at every bus at the first stage. When are they equal? When are they different? Do you understand why - and why prices are what they are?\n",
    "\n",
    "A key question is how this differs to the redispatch stage? How does this differ under different bidding strategies? I.e., does nodal pricing have the same costs as the redispatch stage when generators bid differently to their marginal costs?"
   ]
  },
  {
   "cell_type": "code",
   "execution_count": 1,
   "metadata": {
    "tags": [
     "hide-input"
    ]
   },
   "outputs": [
    {
     "data": {
      "text/html": [
       "\n",
       "        <iframe\n",
       "            width=\"800\"\n",
       "            height=\"1300\"\n",
       "            src=\"https://eee-apps-836a08e1d2dd.herokuapp.com/electricity-grids-3\"\n",
       "            frameborder=\"0\"\n",
       "            allowfullscreen\n",
       "            \n",
       "        ></iframe>\n",
       "        "
      ],
      "text/plain": [
       "<IPython.lib.display.IFrame at 0x23881dd3690>"
      ]
     },
     "execution_count": 1,
     "metadata": {},
     "output_type": "execute_result"
    }
   ],
   "source": [
    "from IPython.display import IFrame\n",
    "IFrame('https://eee-apps-836a08e1d2dd.herokuapp.com/electricity-grids-3', width=800, height=1300)"
   ]
  },
  {
   "cell_type": "markdown",
   "metadata": {},
   "source": [
    "## Zonal pricing"
   ]
  },
  {
   "cell_type": "markdown",
   "metadata": {},
   "source": [
    "Zonal pricing, which is used in Northern Europe (arguably also on Europe as a whole, as while individual countries use uniform pricing, the cross-European market therefore has one price in each country), is somewhere in between uniform and nodal pricing. In zonal pricing (also called market splitting), not all constraints are incorporated in the market, but only a small number of major constraints. This allows for different prices in each zone (which consist of a number of buses), while congestion within zones is still managed by the system operator as in a uniform pricing market. Zones are pre-defined and do not generally change.\n",
    "\n",
    "Zonal pricing can approach the efficiency of nodal pricing if congestion always happens in the same places (i.e. the same lines are always congested) and the zones are defined such that this congestion happens at the boundaries between zones. This tends to be the case in radial networks. In highly meshed networks with a lot of renewables, congestion is likely to occur in different places at different times, depending on the patterns of renewable generation. E.g., on a given day, it might be very windy in one part of the country, causing export constraints from that region, while on the next they the wind might have dropped to zero while solar generation elsewhere is high, such that the constraints are elsewhere. In this case, it is difficult to define fixed zones, and zonal pricing might not work well. Nevertheless, zonal pricing appears to be the approach favoured in European electricity market design circles at the moment.\n",
    "\n",
    "The examples above have used the example of Great Britain (GB) and presented the simple model as nodal pricing, however, splitting the GB into only 3 areas is more reflective of zonal pricing. Therefore, you can apply the above widget in the same way to understand zonal pricing.\n",
    "\n",
    "Below is a figure of the differences between these pricing structures for GB."
   ]
  },
  {
   "cell_type": "markdown",
   "metadata": {},
   "source": [
    "![locational_pricing](locational_pricing.png)"
   ]
  },
  {
   "cell_type": "markdown",
   "metadata": {},
   "source": [
    "Source: Very interesting report on benefits of locational pricing in the UK - https://www.ofgem.gov.uk/sites/default/files/2023-10/Ofgem%20Report%20-%20Assessment%20of%20Locational%20Pricing%20in%20GB%20%28final%29.pdf."
   ]
  }
 ],
 "metadata": {
  "kernelspec": {
   "display_name": "EEE",
   "language": "python",
   "name": "python3"
  },
  "language_info": {
   "codemirror_mode": {
    "name": "ipython",
    "version": 3
   },
   "file_extension": ".py",
   "mimetype": "text/x-python",
   "name": "python",
   "nbconvert_exporter": "python",
   "pygments_lexer": "ipython3",
   "version": "3.11.6"
  }
 },
 "nbformat": 4,
 "nbformat_minor": 2
}