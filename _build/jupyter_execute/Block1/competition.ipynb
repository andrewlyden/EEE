{
 "cells": [
  {
   "cell_type": "markdown",
   "metadata": {},
   "source": [
    "# Competition"
   ]
  },
  {
   "cell_type": "markdown",
   "metadata": {},
   "source": [
    "Now that we have a supply curve and a demand curve, we can put them together to determine equilibrium prices and quantities. To do so, we need to consider a number of different cases.\n",
    "\n",
    "- **Perfect competition** is where all consumers and producers have access to the same products and information.\n",
    "- **Marginal cost** of production refers to the additional cost incurred by a firm in producing one more unit of a good or service. In perfect competition setting the price equal to marginal cost ensures efficiency and allocative optimality, with the price set called the **marginal price**.\n",
    "- A producer has a **monopoly** if it is the only one producing a particular product.\n",
    "- **Oligopoly** markets are neither perfectly competitive nor monopolies and there are usually a limited number of firms that supply a product.\n",
    "- In **Bertrand oligopolies** producers choose prices, and quantities are then a consequence of the prices that everybody charges, as well as the demand curve.\n",
    "- In **Cournot oligopolies** producers choose quantities, and prices are a consequence of the quantities all producers choose, and the demand curve. Energy markets are also usually thought of as Cournot markets.\n",
    "- In **Stackelberg competition**, one of the producers is a first mover who gets to make a decision first. This could be a price decision or a quantity decision."
   ]
  },
  {
   "cell_type": "markdown",
   "metadata": {},
   "source": [
    "## Perfect competition"
   ]
  },
  {
   "cell_type": "markdown",
   "metadata": {},
   "source": [
    "A market is perfectly competitive if no single consumer or producer can influence prices on their own (we say that, in this case, there is no market power, or that everybody is a price taker). In practice, this is likely to happen if there are a large number of firms selling an identical product to a large number of consumers, in a market where everybody has perfect information (i.e. know prices everywhere), without any externalities (negative/positive effects of production/consumption that are not born by the producer/consumer). In this case, a producer or consumer cannot influence the price by producing or consuming more or less - everybody is such a small part of the market that this will not change anything. Can you think of example products where the market might approach perfect competition?\n",
    "\n",
    "In this case, the equilibrium price and quantity can be found at the intersection of the supply and demand curve. It should be easy to see why: if a producer produces an incrementally small amount more, its costs (the height of the supply curve) will be higher than the price, so this is not worth doing. If a producer produces an incrementally small amount less, its lost revenues (the price) will be higher than the costs saved (the height of the supply curve).\n",
    "\n",
    "In a perfectly competitive equilibrium, social surplus, or social welfare (the sum of producer and consumer surplus) will be maximised - i.e., even though everybody selfishly chooses how much to produce, the total value of the market to producer and consumer is at its optimum. Again, it should be easy to see why. If we produce more than the equilibrium, the costs of doing this (the height of the supply curve) exceeds the consumer's utility from the additional amount produced (the height of the demand curve). If we produce less, we can increase social welfare since the consumers' utility of getting an additional unit is still higher than the cost of producing this unit.\n",
    "\n",
    "However, the relative magnitudes of consumer and producer surplus depend on the shapes of the demand and supply curves. In the diagram below, a perfectly competitive equilibrium is plotted (assuming linear curves). Experiment with the parameters. Which surplus is the greatest if demand is highly price sensitive (highly elastic)? What if demand is not very price sensitive (highly inelastic)?"
   ]
  },
  {
   "cell_type": "code",
   "execution_count": 1,
   "metadata": {
    "tags": [
     "hide-input"
    ]
   },
   "outputs": [
    {
     "data": {
      "text/html": [
       "\n",
       "        <iframe\n",
       "            width=\"100%\"\n",
       "            height=\"800\"\n",
       "            src=\"https://eee-apps-836a08e1d2dd.herokuapp.com/equilibrium-1\"\n",
       "            frameborder=\"0\"\n",
       "            allowfullscreen\n",
       "            \n",
       "        ></iframe>\n",
       "        "
      ],
      "text/plain": [
       "<IPython.lib.display.IFrame at 0x1fc014cb650>"
      ]
     },
     "execution_count": 1,
     "metadata": {},
     "output_type": "execute_result"
    }
   ],
   "source": [
    "from IPython.display import IFrame\n",
    "IFrame('https://eee-apps-836a08e1d2dd.herokuapp.com/equilibrium-1', width='100%', height=800)"
   ]
  },
  {
   "cell_type": "markdown",
   "metadata": {},
   "source": [
    "NB : very few markets are perfectly competitive. In practise, if there is no obviously large amount of market power (e.g. if the market has a significant number of suppliers and consumers) we often use the perfectly competitive model anyway, just because it is so convenient."
   ]
  },
  {
   "cell_type": "markdown",
   "metadata": {},
   "source": [
    "## Marginal pricing"
   ]
  },
  {
   "cell_type": "markdown",
   "metadata": {},
   "source": [
    "Marginal cost of production refers to the additional cost incurred by a firm in producing one more unit of a good or service. It is the extra cost associated with increasing the level of output by a single unit. Mathematically, marginal cost is calculated as the change in total cost divided by the change in quantity, expressed as:\n",
    "\n",
    "$$\n",
    "    \\text{Mariginal cost} = \\frac{\\Delta \\text{Total cost}}{\\Delta \\text{Quantity}}\n",
    "$$\n",
    "\n",
    "In practical terms, marginal cost often includes variable costs like raw materials, labor, and energy, but it excludes fixed costs, which do not change with the level of production in the short run. The concept of marginal cost is crucial for firms in making production decisions. In a perfectly competitive market, where firms are price takers, they will typically produce at a level where marginal cost equals the market-determined price to maximize their profits. If the marginal cost is less than the market price, the firm can increase its profit by producing more, and if it is higher, the firm may reduce production to avoid losses. \n",
    "\n",
    "In perfect competition, where firms aim to maximise profits, setting the price equal to marginal cost ensures efficiency and allocative optimality. This is because, in the long run, firms that set prices above the marginal cost would lose customers to competitors offering a lower price. Conversely, firms setting prices below marginal cost would find it unsustainable. Therefore, in perfect competition, the equality between marginal cost and price prevails, leading to an efficient allocation of resources and optimal outcomes for both producers and consumers.\n",
    "\n",
    "- In consumer theory, marginal pricing plays a role in your decisions as a buyer. Imagine you're deciding whether to buy one more unit of a product. The marginal utility, or the extra satisfaction you get from that extra unit, bumps into the marginal price, affecting your decision on whether it's worth it. \n",
    "- In producer theory it's about making one more unit of a product and considering the cost involved. This is the marginal cost – the extra cost of producing one more unit. Producers use marginal pricing to figure out the sweet spot where the cost of making more aligns with the revenue they'll get.\n",
    "- In a competitive market, where many players are vying for your business, the interaction between marginal cost and revenue is crucial. Marginal pricing guides producers in deciding how much to produce to maximize their profits, playing a crucial role in keeping markets balanced."
   ]
  },
  {
   "cell_type": "markdown",
   "metadata": {},
   "source": [
    "## Imperfect competition: Monopoly"
   ]
  },
  {
   "cell_type": "markdown",
   "metadata": {},
   "source": [
    "A producer has a monopoly if it is the only one producing a particular product. Can you think of markets for which this is the case? In this case, the monopolist has market power (it is a price maker) because, if it increases or decreases its production, it changes prices. In particular, by decreasing the quantity it produces, it can create more scarcity, increasing the price. The equilibrium between supply and demand is now not at the intersection between the demand and supply curves. To see why, use the diagram below. See what happens if you increase or decrease the quantity produced. What is the profit (=producer surplus)-maximising quantity? How does this depend on the slopes of the demand and supply curves? NB: if you increase the monopoly quantity above the perfectly competitive equilibrium, visualising the producer surplus becomes difficult as there is a loss."
   ]
  },
  {
   "cell_type": "code",
   "execution_count": 2,
   "metadata": {
    "tags": [
     "hide-input"
    ]
   },
   "outputs": [
    {
     "data": {
      "text/html": [
       "\n",
       "        <iframe\n",
       "            width=\"100%\"\n",
       "            height=\"850\"\n",
       "            src=\"https://eee-apps-836a08e1d2dd.herokuapp.com/equilibrium-2\"\n",
       "            frameborder=\"0\"\n",
       "            allowfullscreen\n",
       "            \n",
       "        ></iframe>\n",
       "        "
      ],
      "text/plain": [
       "<IPython.lib.display.IFrame at 0x1fc014d1d10>"
      ]
     },
     "execution_count": 2,
     "metadata": {},
     "output_type": "execute_result"
    }
   ],
   "source": [
    "from IPython.display import IFrame\n",
    "IFrame('https://eee-apps-836a08e1d2dd.herokuapp.com/equilibrium-2', width='100%', height=850)"
   ]
  },
  {
   "cell_type": "markdown",
   "metadata": {},
   "source": [
    "You have (hopefully) seen that the monopolist would choose a quantity where the supply curve intersects the blue dot-dashed line. This is the marginal revenue function which, when supply and demand curves are linear, is twice as steep as the demand curve. \n",
    "\n",
    "To see where this comes from, we have to do a bit of mathematics. A monopolist sets a quantity such that its marginal revenue (the revenue from producing an additional unit) is equal to its marginal cost (the cost of producing an additional unit). If these two are not equal, it can still increase its profits. Marginal costs are, as we have seen, given by the supply curve. Total revenues (the amount of money coming in) are (price × quantity) where the price is given by the inverse demand function (price = demand intercept + demand slope × quantity). Putting these two together, total revenues are given by\n",
    "\n",
    "$$\n",
    "    \\text{Total Revenue} & = \\text{price} * \\text{quantity} \\\\\n",
    "                         & = (\\text{demand intercept} + \\text{demand slope} * \\text{quantity}) * \\text{quantity} \\\\ \n",
    "                         & = \\text{demand intercept} * \\text{quantity} + \\text{demand slope} * \\text{quantity} ^ 2\n",
    "$$\n",
    "\n",
    " Hence, marginal revenues (the additional amount of money coming in if the producer makes another unit) are\n",
    " \n",
    "$$\n",
    "    \\frac{\\partial \\text{ Total Revenue}}{\\partial \\text{ quantity}} = \\text{demand intercept} + 2 * \\text{demand slope} * \\text{quantity}.\n",
    "$$\n",
    "\n",
    "Note that, as we know, the demand slope is generally negative. This is the marginal revenue function plotted above. If a monopolist produces another unit, it gets the price for this additinal unit (demand intercept + demand slope x quantity) but this also reduces the price it gets for all its products (otherwise the monopolist would not sell the additional unit).\n",
    "\n",
    "Knowing this, go back to the diagram. For which demand/supply slopes/intercepts do consumers suffer most/least from being in a monopolistic market, as opposed to the perfectly competitive market above? What would happen if we shift the supply curve up or down in a parallel way (e.g., if we gave the producer a per-unit subsidy or imposed a tax)? For which parameters would consumers/the monopolist benefit most? Remember to optimise the quantity every time you change the intercepts/slopes. What if we shift the demand curve up or down (e.g, by increasing or reducing value-added taxes)?"
   ]
  },
  {
   "cell_type": "markdown",
   "metadata": {},
   "source": [
    "## Imperfect competition: Oligopoly"
   ]
  },
  {
   "cell_type": "markdown",
   "metadata": {},
   "source": [
    "Most markets are neither perfectly competitive nor monopolies. Instead, there are usually a number (but not an infinite number) of firms that supply a product. In this case, the market is an oligopoly. At this point, we have to consider the nature of competition. In some markets, producers can be assumed to choose prices. Quantities are then a consequence of the prices that everybody charges, as well as the demand curve. This is called Bertrand competition. In other markets, it is more natural to think of producers as choosing quantities. In this case, prices are then a consequence of the quantities all producers choose, and the demand curve. This is called Cournot competition. An often-cited example are air travel markets, where the important initial choice facing airlines is the number of seats they will offer in a market; after all airlines have chosen this, a market-clearing price can be calculated. Energy markets are also usually thought of as Cournot markets. Finally, sometimes some producers are market leaders, who get to make their decisions before others, instead of everybody making decisions at the same time. In this case, we have Stackelberg competition."
   ]
  },
  {
   "cell_type": "markdown",
   "metadata": {},
   "source": [
    "### Bertrand oligopoly (price competition)"
   ]
  },
  {
   "cell_type": "markdown",
   "metadata": {},
   "source": [
    "Bertrand oligopolies are easy to model. As long as consumers have perfect information about the prices that all producers charge, they will buy from the producer with the lowest price. This means that a producer can capture the entire market by choosing a price that is just a little bit lower than its competitors. Of course, its competitors know this, so will also try to undercut. This leads to a race to the bottom. Producers will not be willing to sell products below their costs, so a producer will set its production to zero if it reaches its cost of production. Once there are only two producers left, with one having reached its cost of production, the second one has no incentive to further reduce its price. The price in a Bertrand oligopoly is therefore the production cost of the second-cheapest producer. All remaining producers will charge this price. If all producers have a constant marginal cost, only two producers will produce. If both producers have equal marginal costs, the price will be equal to what it would be under perfect competition. If producers have quadratic total cost curves (i.e. linear marginal cost curves) or above, more than two producers might be active. Since energy markets are not usually modelled as Bertrand oligopolies, we will not analyse this setting in detail."
   ]
  },
  {
   "cell_type": "markdown",
   "metadata": {},
   "source": [
    "### Cournot oligopoly (quantity competition)"
   ]
  },
  {
   "cell_type": "markdown",
   "metadata": {},
   "source": [
    "In a Cournot oligopoly, all producers choose quantities. For simplicity, we will analyse a situation with only two producers, i.e. a Cournot duopoly. Once we get to energy market examples, we will consider settings with more producers. Suppose that we have two producers with linear marginal cost functions:\n",
    "\n",
    "$$\n",
    "    \\text{cost}_1 = \\text{cost intercept}_1 + \\text{cost slope}_1 * \\text{quantity}_1 \\\\\n",
    "    \\text{cost}_2 = \\text{cost intercept}_2 + \\text{cost slope}_2 * \\text{quantity}_2\n",
    "$$\n",
    "\n",
    "and an inverse demand function\n",
    "\n",
    "$$\n",
    "    \\text{price} & = \\text{demand intercept} + \\text{demand slope} * \\text{total quantity} \\\\\n",
    "                 & = \\text{demand intercept} + \\text{demand slope} * (\\text{quantity}_1 + \\text{quantity}_2)\n",
    "$$\n",
    "\n",
    "(Note that the demand slope is usually negative.)\n",
    "\n",
    "Profits are then given by \n",
    "\n",
    "$$\n",
    "    \\text{profit}_1 & = \\text{price} * \\text{quantity}_1 - \\text{cost}_1 \\\\\n",
    "             & = (\\text{demand intercept} + \\text{demand slope} * (\\text{quantity}_1 + \\text{quantity}_2)) * \\text{quantity}_1 - \\\\\n",
    "             &   (\\text{cost intercept}_1 + \\text{cost slope}_1 * \\text{quantity}_1) \\\\\n",
    "    \\text{profit}_2 & = \\text{price} * \\text{quantity}_2 - \\text{cost}_2 \\\\\n",
    "                    & = (\\text{demand incercept} + \\text{demand slope} * (\\text{quantity}_1 + \\text{quantity}_2)) * \\text{quantity}_2 - \\\\\n",
    "                    &   (\\text{cost intercept}_2 + \\text{cost slope}_2 * \\text{quantity}_2)\n",
    "$$\n",
    "\n",
    "Each firm’s profits therefore depend not only on what it does, but also on what its competitor does. Each firm optimises its quantity, so\n",
    "\n",
    "$$\n",
    "    \\frac{\\partial \\text{ profit}_1}{\\partial \\text{ quantity}_1} = \\frac{\\partial \\text{ profit}_2}{\\partial \\text{ quantity}_2} = 0\n",
    "$$\n",
    "\n",
    "Taking the derivatives gives:\n",
    "\n",
    "$$\n",
    "    \\text{demand intercept} - \\text{cost slope}_1 + 2 × \\text{demand slope} × \\text{quantity}_1 + \\text{demand slope} × \\text{quantity}_2 = 0\n",
    "$$\n",
    "\n",
    "$$\n",
    "    \\text{demand intercept} - \\text{cost slope}_2 + 2 × \\text{demand slope} × \\text{quantity}_2 + \\text{demand slope} × \\text{quantity}_1 = 0\n",
    "$$\n",
    "\n",
    "We could solve these directly to obtain optimal quantities. We can also rearrange these equations to obtain optimal response functions, i.e., the optimal quantity that each producer should produce, given its competitors quantity choice:\n",
    "$$\n",
    "    \\text{optimal quantity}_1 = \\frac{\\text{cost slope}_1 - \\text{demand intercept} - \\text{demand slope} × \\text{quantity}_2}{2 × \\text{demand slope}}\n",
    "$$\n",
    "\n",
    "$$\n",
    "    \\text{optimal quantity}_2 = \\frac{\\text{cost slope}_2 - \\text{demand intercept} - \\text{demand slope} × \\text{quantity}_1}{2 × \\text{demand slope}}\n",
    "$$\n",
    "\n",
    "We can visualise this in the diagram below. On producer 1’s optimal response function, we can read how much it should produce given a known quantity 2. On producer 2’s optimal response function, we can read how much it should produce given a known quantity 1."
   ]
  },
  {
   "cell_type": "code",
   "execution_count": 3,
   "metadata": {
    "tags": [
     "hide-input"
    ]
   },
   "outputs": [
    {
     "data": {
      "text/html": [
       "\n",
       "        <iframe\n",
       "            width=\"100%\"\n",
       "            height=\"800\"\n",
       "            src=\"https://eee-apps-836a08e1d2dd.herokuapp.com/equilibrium-3\"\n",
       "            frameborder=\"0\"\n",
       "            allowfullscreen\n",
       "            \n",
       "        ></iframe>\n",
       "        "
      ],
      "text/plain": [
       "<IPython.lib.display.IFrame at 0x1fc014dcad0>"
      ]
     },
     "execution_count": 3,
     "metadata": {},
     "output_type": "execute_result"
    }
   ],
   "source": [
    "from IPython.display import IFrame\n",
    "IFrame('https://eee-apps-836a08e1d2dd.herokuapp.com/equilibrium-3', width='100%', height=800)"
   ]
  },
  {
   "cell_type": "markdown",
   "metadata": {},
   "source": [
    "### Stackelberg competition"
   ]
  },
  {
   "cell_type": "markdown",
   "metadata": {},
   "source": [
    "In Stackelberg competition, one of the producers gets to make a decision first. This could be a price decision or a quantity decision. If the decision is a price decision, the outcome of very similar to Bertrand competition: the first mover will anticipate possible undercutting, and set a price such that its competitors cannot undercut it, i.e. it will set its price to the marginal cost of its cheapest competitor (or choose to not participate in the market at all, if its own costs are higher).\n",
    "\n",
    "Stackelberg competition in quantities is more interesting. It is perhaps not so often used in short-term energy market applications, where all producers make decisions at the same time, but is very useful to model investment, as there, some firms are clear leaders and others will only choose to invest once they have seen what the leaders are going to do. Note that it is not necessarily an advantage to be the leader (i.e. there is not necessary a first-mover advantage); it might be better to be able to wait and see, depending on the setting.\n",
    "\n",
    "Let’s look at a very quick example, taking the same two profit functions and the demand function from the Cournot example above:\n",
    "\n",
    "$$\n",
    "    \\text{profit}_1 & = \\text{price} * \\text{quantity}_1 - \\text{cost}_1 \\\\\n",
    "             & = (\\text{demand intercept} + \\text{demand slope} * (\\text{quantity}_1 + \\text{quantity}_2)) * \\text{quantity}_1 - \\\\\n",
    "             &   (\\text{cost intercept}_1 + \\text{cost slope}_1 * \\text{quantity}_1) \\\\\n",
    "    \\text{profit}_2 & = \\text{price} * \\text{quantity}_2 - \\text{cost}_2 \\\\\n",
    "                    & = (\\text{demand incercept} + \\text{demand slope} * (\\text{quantity}_1 + \\text{quantity}_2)) * \\text{quantity}_2 - \\\\\n",
    "                    &   (\\text{cost intercept}_2 + \\text{cost slope}_2 * \\text{quantity}_2)\n",
    "$$\n",
    "\n",
    "As before, each firm’s profits therefore depend not only on what it does, but also on what its competitor does. However, let us now assume that the first firm gets to choose its quantity first. That means that, when the second firm is deciding, it already knows quantity 1. As before, it will set $\\frac{\\delta \\text{ profit}_2}{\\delta \\text{ quantity}_2} = 0$, and therefore\n",
    "\n",
    "$$\n",
    "\\text{optimal quantity}_2 = \\frac{\\text{cost slope}_2 - \\text{demand intercept} - \\text{demand slope} × \\text{quantity}_1}{2 × \\text{demand slope}}\n",
    "$$\n",
    "\n",
    "The first producer knows that this is what his follower will do. It gets to decide first, so it can plug the above quantity into its own profit function and then determine what its optimal quantity as leader should be:\n",
    "\n",
    "$$\n",
    "    \\text{profit}_1 = & (\\text{demand intercept} + \\text{demand slope} × (\\text{quantity}_1 + \\frac{\\text{cost slope}_2 - \\text{demand intercept} - \\text{demand slope} × \\text{quantity}_1}{2 × \\text{demand slope}})) \\\\\n",
    "                      & × \\text{quantity}_1 - (\\text{cost intercept}_1 + \\text{cost slope}_1 × \\text{quantity}_1)\n",
    "$$\n",
    "\n",
    "To determine the optimum, we need $\\frac{\\delta \\text{ profit}_1}{\\delta \\text{ quantity}_1} \\mid _{\\text{optimal quantity}_2 = 0}$, i.e. the derivative of the above profit function is equal to zero. I will not do these derivations here (you can do them yourself if you want to get some practice), but you can use the diagram below to see the difference between the Cournot and Stackelberg equilibria. Which situation would you prefer if you were producer 1 or 2? How does this depend on the model parameters? Can you explain why?"
   ]
  },
  {
   "cell_type": "code",
   "execution_count": 4,
   "metadata": {
    "tags": [
     "hide-input"
    ]
   },
   "outputs": [
    {
     "data": {
      "text/html": [
       "\n",
       "        <iframe\n",
       "            width=\"100%\"\n",
       "            height=\"950\"\n",
       "            src=\"https://eee-apps-836a08e1d2dd.herokuapp.com/equilibrium-4\"\n",
       "            frameborder=\"0\"\n",
       "            allowfullscreen\n",
       "            \n",
       "        ></iframe>\n",
       "        "
      ],
      "text/plain": [
       "<IPython.lib.display.IFrame at 0x1fc014de390>"
      ]
     },
     "execution_count": 4,
     "metadata": {},
     "output_type": "execute_result"
    }
   ],
   "source": [
    "from IPython.display import IFrame\n",
    "IFrame('https://eee-apps-836a08e1d2dd.herokuapp.com/equilibrium-4', width='100%', height=950)"
   ]
  },
  {
   "cell_type": "markdown",
   "metadata": {},
   "source": [
    "## Imperfect competition: Consumer market power\n",
    "\n",
    "Consumers can also have market power. This is less common, but there are plenty of examples of markets with only a small number of large consumers. Think, for instance, about markets for specialist medical equipment, computing parts, or manufacturing equipment. If there is only one consumer for a product (but potentially a large number of producers) this is called a monopsony. If there are several, this is an oligopsoly. Since these are not very common, and have less relevance to energy/environmental markets, we will not discuss them in detail here.\n"
   ]
  },
  {
   "cell_type": "markdown",
   "metadata": {},
   "source": [
    "## A note on short vs. long-term decisions"
   ]
  },
  {
   "cell_type": "markdown",
   "metadata": {},
   "source": [
    "So far, we have only looked at short-term decision making (i.e. assuming that the number of competitors is fixed). In reality, producers can usually choose to leave a market if they are making losses. Similarly, producers can enter if there are profits to be made, although there might be barriers to entry/exit, such as high fixed costs involved in setting yourself up as a new producer, or regulatory constraints. Hence, monopolies might evolve into oligopolies or perfectly competitive markets. Long-run profits are equal to the short-term producer profits minus fixes costs. We will discuss this later when we look at energy market examples."
   ]
  }
 ],
 "metadata": {
  "kernelspec": {
   "display_name": "EEE",
   "language": "python",
   "name": "python3"
  },
  "language_info": {
   "codemirror_mode": {
    "name": "ipython",
    "version": 3
   },
   "file_extension": ".py",
   "mimetype": "text/x-python",
   "name": "python",
   "nbconvert_exporter": "python",
   "pygments_lexer": "ipython3",
   "version": "3.11.6"
  }
 },
 "nbformat": 4,
 "nbformat_minor": 2
}