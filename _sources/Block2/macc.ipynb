{
 "cells": [
  {
   "cell_type": "markdown",
   "metadata": {},
   "source": [
    "# Marginal Abatement Cost Curve"
   ]
  },
  {
   "cell_type": "markdown",
   "metadata": {},
   "source": [
    "As you have learned in the previous section, externalities play a crucial role in environmental issues especially as an economic tool for considering pollution. This week we will explore the Marginal Abatement Cost Curve (MACC) which serves as a pivotal tool in addressing these externalities by providing a systematic approach to evaluating the cost-effectiveness of various pollution reduction measures.\n",
    "\n",
    "Given the negative externalities associated with pollution, there is a collective need to reduce it. This reduction, however, entails costs for the entities responsible for the pollution. The challenge lies in finding the most efficient and economically viable ways to decrease pollution while considering the broader social and environmental context. The Marginal Abatement Cost Curve is a tool used to navigate this challenge. It systematically organises and evaluates different pollution reduction measures based on their cost-effectiveness. The curve illustrates the relationship between the quantity of pollution reduced and the associated costs for each method.\n",
    "\n",
    "The MAC Curve ranks pollution reduction methods from the most to least cost-effective. Methods positioned at the beginning of the curve represent measures that can achieve significant pollution reduction at a relatively low cost. This efficiency is crucial in addressing externalities since it allows for the reduction of negative environmental impacts without imposing an undue economic burden on polluting entities."
   ]
  },
  {
   "cell_type": "markdown",
   "metadata": {},
   "source": [
    "## Marginal cost and emissions"
   ]
  },
  {
   "cell_type": "markdown",
   "metadata": {},
   "source": [
    "In Block 1 we have seen how marginal pricing influences choices for consumers and producers in competitive markets. \n",
    "\n",
    "- In consumer theory, marginal pricing plays a role in your decisions as a buyer. Imagine you're deciding whether to buy one more unit of a product. The marginal utility, or the extra satisfaction you get from that extra unit, bumps into the marginal price, affecting your decision on whether it's worth it. \n",
    "- In producer theory it's about making one more unit of a product and considering the cost involved. This is the marginal cost – the extra cost of producing one more unit. Producers use marginal pricing to figure out the sweet spot where the cost of making more aligns with the revenue they'll get.\n",
    "- In a competitive market, where many players are vying for your business, the interaction between marginal cost and revenue is crucial. Marginal pricing guides producers in deciding how much to produce to maximize their profits, playing a crucial role in keeping markets balanced.\n",
    "\n",
    "In the context of a Marginal Abatement Cost Curve (MACCC) the \"marginal\" part is important. Imagine you're deciding how much pollution to cut – the MACC helps us see the cost of cutting by one more unit. This \"marginal abatement cost\" is the price tag for reducing one more unit of pollution. So, just like we tweak our choices in buying and producing in regular economics, the MACC can be used to help us make smarter decisions about options for reducing pollution. \"Abatement\" in this context means a reduction, e.g., a reduction in carbon emissions.\n",
    "\n",
    "It is useful to understand how we go from marginal cost to marginal cost of emissions to marginal cost of emission abatement as seen in these equations:"
   ]
  },
  {
   "cell_type": "markdown",
   "metadata": {},
   "source": [
    "$$\n",
    "\\text{Marginal Cost (£/unit)} = \\frac{\\Delta\\text{Cost of Production (£)}}{\\Delta\\text{Quantity of Production (unit)}}\n",
    "$$"
   ]
  },
  {
   "cell_type": "markdown",
   "metadata": {},
   "source": [
    "$$\n",
    "\\text{Marginal Cost of Emissions (£/ton)} = \\frac{\\Delta\\text{Cost of Emissions (£)}}{\\Delta\\text{Quantity of Emissions (tons)}}\n",
    "$$"
   ]
  },
  {
   "cell_type": "markdown",
   "metadata": {},
   "source": [
    "$$\n",
    "\\text{Marginal Cost of Emission Abatement (£/ton)} = \\frac{\\Delta\\text{Cost of Emission Abatement (£)}}{\\Delta\\text{Quantity of Emission Abatement (tons)}}\n",
    "$$"
   ]
  },
  {
   "cell_type": "markdown",
   "metadata": {},
   "source": [
    "## Supplier options in response to carbon tax"
   ]
  },
  {
   "cell_type": "markdown",
   "metadata": {},
   "source": [
    "A carbon tax serves as a lever, to internalise the costs of the supplier's carbon emissions, and consequently, incentivises implementing carbon reduction measures. \n",
    "\n",
    "Using the graph below, you can explore how different carbon tax rates and carbon emission levels influence the choice of carbon reduction options implemented. \n",
    "\n",
    "Play with the levels of carbon tax and see if you understand how this influences the choice of carbon reduction option if you can only pick one? Does your answer change when you can pick multiple options? How sensitive are the results to changes in the carbon tax rate? "
   ]
  },
  {
   "cell_type": "code",
   "execution_count": 4,
   "metadata": {},
   "outputs": [
    {
     "data": {
      "text/html": [
       "\n",
       "        <iframe\n",
       "            width=\"100%\"\n",
       "            height=\"600\"\n",
       "            src=\"https://eee-apps-836a08e1d2dd.herokuapp.com/macc-1\"\n",
       "            frameborder=\"0\"\n",
       "            allowfullscreen\n",
       "            \n",
       "        ></iframe>\n",
       "        "
      ],
      "text/plain": [
       "<IPython.lib.display.IFrame at 0x245d5338990>"
      ]
     },
     "execution_count": 4,
     "metadata": {},
     "output_type": "execute_result"
    }
   ],
   "source": [
    "from IPython.display import IFrame\n",
    "IFrame('https://eee-apps-836a08e1d2dd.herokuapp.com/macc-1', width='100%', height=600)"
   ]
  },
  {
   "cell_type": "markdown",
   "metadata": {},
   "source": [
    "If you'd like to create your own MACC then go here - https://tamc.github.io/macc/."
   ]
  },
  {
   "cell_type": "markdown",
   "metadata": {},
   "source": [
    "## Market-wide marginal abatement cost curve (MACC)"
   ]
  },
  {
   "cell_type": "markdown",
   "metadata": {},
   "source": [
    "Now, let's look at it from the perspective of someone studying government policies. Think of it like this on a larger scale for the whole market. Just like companies have their own specific costs for reducing emissions, society as a whole has its own cost. An environmental data science team, through research on policies and technologies, can figure out how much we can reduce emissions and the costs involved for different things like electric cars, wind and solar power, rules about fuels, and projects that take care of the land. With this info, public policies can focus on adopting the technologies that are not too expensive first, kind of like picking the easiest and cheapest options to make a positive impact on the environment.\n",
    "\n",
    "This graph is a famous MAC from 2009 by McKinsey, each rectangle stands for a specific thing we can do, like using LED lights or putting Carbon Capture Systems in old coal plants. If a rectangle is wider, it means we can reduce more emissions with that action. If it's taller, it means that action is more expensive. One side shows how much we can reduce emissions (that's the x-axis), and the other side shows the cost (in euros per ton of CO2, that's the y-axis).\n",
    "\n",
    "It's a big deal because it shows the trade-offs in one picture for greenhouse gas emissions from different places and all around the world. So, someone making rules or coming up with new ideas or even someone investing money can look at this and decide to focus on things where we can cut down on emissions without spending too much."
   ]
  },
  {
   "cell_type": "markdown",
   "metadata": {},
   "source": [
    "![mckinsey](McKinsey_Cost_Curve_670w.png)"
   ]
  },
  {
   "cell_type": "markdown",
   "metadata": {},
   "source": [
    "Looking at the chart above, something that might catch your attention is the idea of negative costs, which can be a bit surprising. Let's take LEDs, for example (they show about - €100 per ton of CO2). This negative cost means that for every investment that reduces CO2 from traditional lighting by 1 ton, the investor actually saves €100. Basically, it's like saying you get money back for doing something good for the environment. In a way, these are investments that make sense not just for the environment but also for saving money. One reason people might not jump to buy things like $5 LED light bulbs, even though they're good for the environment, is because it's sometimes hard to see the long-term benefits when we're thinking about short-term decisions.\n",
    "\n",
    "People argue about why these negative costs happen, but one common idea is that in our current way of doing things, there are problems like not enough rewards or information. This can stop people in the market from taking full advantage of the benefits of investing in technologies that actually save money in the long run.\n",
    "\n",
    "This graph is quite old now and new similar curves are being developed - for example, see https://www.edf.org/revamped-cost-curve-reaching-net-zero-emissions.\n",
    "\n",
    "There are also new ways which look to expand the cost analysis to lifetime costs - for example the IPCC 6th Assessment Report included this diagram - https://www.ipcc.ch/report/ar6/wg3/figures/summary-for-policymakers/figure-spm-7/."
   ]
  }
 ],
 "metadata": {
  "kernelspec": {
   "display_name": "EEE",
   "language": "python",
   "name": "python3"
  },
  "language_info": {
   "codemirror_mode": {
    "name": "ipython",
    "version": 3
   },
   "file_extension": ".py",
   "mimetype": "text/x-python",
   "name": "python",
   "nbconvert_exporter": "python",
   "pygments_lexer": "ipython3",
   "version": "3.11.6"
  }
 },
 "nbformat": 4,
 "nbformat_minor": 2
}
