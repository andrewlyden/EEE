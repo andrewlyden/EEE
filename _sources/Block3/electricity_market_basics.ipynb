{
 "cells": [
  {
   "cell_type": "markdown",
   "metadata": {},
   "source": [
    "# Electricity Market Basics"
   ]
  },
  {
   "cell_type": "markdown",
   "metadata": {},
   "source": [
    "This is the first week of Block 3 - Energy Markets. This week we will look at the basics of electricity markets. We will then look at investment and renewable support schemes, followed by electricity grids and sector coupling which looks beyond electricity to other energy sectors.\n",
    "\n",
    "We will not yet consider energy networks, but instead look at an energy market located in a single point (so that we do not need to worry about any physical constraints on energy flows). This is not an electrical engineering course, so we will conveniently going to ignore very short-term operational problems (e.g., dynamics, and other things that happen in electrical systems on very short timescales of milliseconds to minutes); we will also ignore the intricacies of our modern alternating current networks. These are interesting but out of scope here. \n",
    "\n",
    "We will also confine ourselves to wholesale markets, where generators sell electricity to wholesale consumers (i.e., utilities and large industrial consumers). Utilities sell the power they buy on to consumers in consumer markets. These are less interesting from the perspective of energy market analysis, as consumers generally sign long-term contracts to buy electricity at a fixed price per unit, and competition depends more on marketing and service levels than on economics. You would expect, however, prices in consumer markets to be equal to a long-term average of wholesale market prices (as these represent the utility’s input costs), plus a markup to cover the utility’s other costs and profits, plus taxes. In the UK, consumer prices are approximately twice as high as wholesale market prices, but they do correlate over a number of years.\n",
    "\n",
    "This week we will look at:\n",
    "\n",
    "- **Economic dispatch** explores the supply/demand curves for electricity curves, which show how price is formed.\n",
    "- Externalities such as carbon emissions need to be internalised, and this can be done through a **carbon tax** on generators.\n",
    "- Economic dispatch can be looked at for a single time period, or across **multiple time periods**, particularly with variable renewable power generation such as wind power.\n",
    "- **Energy storage** is emerging as a prominent technology in electricity markets in order to manage temporal and spatial mismatch between supply and demand.\n",
    "- Our simple economic models can be extended to include techincal constraints of generators such as minimum ramp up/down and minimum run times (these are called **unit committment** problems).\n",
    "\n",
    "This course will focus on the economic aspects of the electricity market - however, it is important to have a grasp of the technical fundamentals of electricity markets. For a refresher please see - http://www.open-electricity-economics.org/book/text/01.html#overview-of-electric-power-systems."
   ]
  },
  {
   "cell_type": "markdown",
   "metadata": {},
   "source": [
    "## Economic dispatch"
   ]
  },
  {
   "cell_type": "markdown",
   "metadata": {},
   "source": [
    "Given the many different ways of consuming and generating electricity, two central questions arise:\n",
    "- What is the most efficient way to deploy consuming and generating assets in the short-run?\n",
    "- How should we invest in assets in the long-run to maximise economic welfare?\n",
    "\n",
    "Economic dispatch explores these questions by attempting to answer how we cost optimally dispatch electrical generation and storage to meet demand. Electricity markets have several important differences compared to other commodity markets. At every instant in time, consumption must be balanced with generation. If you throw a switch to turn on a light, somewhere a generator will be increasing its output to compensate. If the power is not balanced in the grid, the power supply will collapse and there will be blackouts. It is not possible to run an electricity market for every single second, for practical reasons (the network must be checked for stability, etc.). So electricity is traded in blocks of time, e.g. hourly, 14:00-15:00, or quarter-hourly,\n",
    "14:00-14:15, well in advance of the time when it is actually consumed (based on forecasts). Additional markets trade in backup balancing power, which step in if the forecasts are wrong.\n",
    "\n",
    "The app below shows a simple example energy market operation for a single time period. Energy demand is assumed to be perfectly inelastic (i.e., not sensitive to prices), which is a reasonable approximation in short term analysis. The period lasts 1 hour, such that, if a generator generates at 1MW in a particular period, it has generated 1MWh (i.e. MWs and MWhs are equivalent).  There are three types of generation. \n",
    "\n",
    "We have coal-fired generation capacity, which has a constant marginal fuel cost of 8£/MWh, and gas-fired generation a cost of 10£/MWh, while wind generation has no cost but a limited availability. Because of varying wind conditions only a percentage of its installed capacity is available.\n",
    "\n",
    "The app below shows the optimal generation levels and prices which are obtained when we look for the intersection of the demand and supply curves in each period. This is also the perfectly competitive equilibrium, as we know that, without externalities or other distortions, perfect competition gives us the optimal quantities and prices. In mathematical terms, since there is no consumer surplus here (as the demand curve is vertical), we can obtain this point by minimising the total cost of generation (generation times variable generation costs, summed over all generators and all time periods), subject to a constraint that specifies that the sum of generation has to meet demand in each time period. Generation decisions are called dispatch decisions, so the generation levels correspond to optimal dispatch (or economic dispatch). The supply curve shows the **merit order**, i.e., the order in which generators should be dispatched in an optimal solution.\n",
    "\n",
    "Experiment with the economic dispatch model below. Do you understand why prices are what they are (Note: they are the cost of the most expensive unit that is still producing, i.e. the price at the intersection of the supply and demand curves)? What happens to prices if we add progressively more wind into the system? Do you understand why? (this is called the merit order effect, because wind changes the supply curve)."
   ]
  },
  {
   "cell_type": "code",
   "execution_count": 5,
   "metadata": {
    "tags": [
     "hide-input"
    ]
   },
   "outputs": [
    {
     "data": {
      "text/html": [
       "\n",
       "        <iframe\n",
       "            width=\"800\"\n",
       "            height=\"850\"\n",
       "            src=\"https://eee-apps-836a08e1d2dd.herokuapp.com/electricity-market-basics-1\"\n",
       "            frameborder=\"0\"\n",
       "            allowfullscreen\n",
       "            \n",
       "        ></iframe>\n",
       "        "
      ],
      "text/plain": [
       "<IPython.lib.display.IFrame at 0x14f830bf110>"
      ]
     },
     "execution_count": 5,
     "metadata": {},
     "output_type": "execute_result"
    }
   ],
   "source": [
    "from IPython.display import IFrame\n",
    "IFrame('https://eee-apps-836a08e1d2dd.herokuapp.com/electricity-market-basics-1', width=800, height=850)"
   ]
  },
  {
   "cell_type": "markdown",
   "metadata": {},
   "source": [
    "## Carbon pricing"
   ]
  },
  {
   "cell_type": "markdown",
   "metadata": {},
   "source": [
    "The implementation of a carbon tax introduces a price on carbon emissions, internalizing the external costs associated with pollution and climate change. By assigning a monetary value to carbon emissions, the carbon tax incentivises power generators to minimise their environmental impact and opt for cleaner energy sources. As a result, the economic dispatch process becomes a tool for achieving a more environmentally friendly and economically efficient electricity generation mix.\n",
    "\n",
    "The app below fixes most of the inputs for economic dispatch in the above app, but allows you to vary a carbon price. In addition to their fuel costs, generators have to pay a carbon price if you select a nonzero value. In this example, we have set coal-fired generators as emitting 0.1t/MWh, and gas-fired generators as emitting 0.05t/MWh (please find better sources for this if using in your assignments). Carbon prices are per tonne and due on all carbon the generators emit. Wind generators have no carbon emissions.\n",
    "\n",
    "What happens if you increase carbon prices? Can you see coal and gas change place in the merit order? Do carbon emissions actually change if you increase the price? Why/why not?"
   ]
  },
  {
   "cell_type": "code",
   "execution_count": 6,
   "metadata": {
    "tags": [
     "hide-input"
    ]
   },
   "outputs": [
    {
     "data": {
      "text/html": [
       "\n",
       "        <iframe\n",
       "            width=\"800\"\n",
       "            height=\"550\"\n",
       "            src=\"https://eee-apps-836a08e1d2dd.herokuapp.com/electricity-market-basics-2\"\n",
       "            frameborder=\"0\"\n",
       "            allowfullscreen\n",
       "            \n",
       "        ></iframe>\n",
       "        "
      ],
      "text/plain": [
       "<IPython.lib.display.IFrame at 0x14f830bfd50>"
      ]
     },
     "execution_count": 6,
     "metadata": {},
     "output_type": "execute_result"
    }
   ],
   "source": [
    "from IPython.display import IFrame\n",
    "IFrame('https://eee-apps-836a08e1d2dd.herokuapp.com/electricity-market-basics-2', width=800, height=550)"
   ]
  },
  {
   "cell_type": "markdown",
   "metadata": {},
   "source": [
    "## Multiple time periods"
   ]
  },
  {
   "cell_type": "markdown",
   "metadata": {},
   "source": [
    "The above economic dispatch apps are for a single time period. However, when incorporating variable renewable generation such as wind power, it is important to look over multiple time periods.\n",
    "\n",
    "Experiment with the app below and see how the merit order changes in different time periods. The 2nd graph shows the power dispatches to meet demand.\n",
    "\n",
    "NB - the wind profile is created using random numbers and changes everytime you select a different time period."
   ]
  },
  {
   "cell_type": "code",
   "execution_count": 7,
   "metadata": {
    "tags": [
     "hide-input"
    ]
   },
   "outputs": [
    {
     "data": {
      "text/html": [
       "\n",
       "        <iframe\n",
       "            width=\"800\"\n",
       "            height=\"1000\"\n",
       "            src=\"https://eee-apps-836a08e1d2dd.herokuapp.com/electricity-market-basics-3\"\n",
       "            frameborder=\"0\"\n",
       "            allowfullscreen\n",
       "            \n",
       "        ></iframe>\n",
       "        "
      ],
      "text/plain": [
       "<IPython.lib.display.IFrame at 0x14f830b3450>"
      ]
     },
     "execution_count": 7,
     "metadata": {},
     "output_type": "execute_result"
    }
   ],
   "source": [
    "from IPython.display import IFrame\n",
    "IFrame('https://eee-apps-836a08e1d2dd.herokuapp.com/electricity-market-basics-3', width=800, height=1000)"
   ]
  },
  {
   "cell_type": "markdown",
   "metadata": {},
   "source": [
    "## Energy storage"
   ]
  },
  {
   "cell_type": "markdown",
   "metadata": {},
   "source": [
    "Explore the app below to see how a energy storage might operate in a high wind scenario. The black dotted line shows the \"state of charge\" of the storage - i.e., how much energy is stored. What is happening as this increases and decreases? If you had some energy storage capacity, when would you charge/discharge this? Would you be happy with more renewables or higher carbon prices, or not?"
   ]
  },
  {
   "cell_type": "code",
   "execution_count": 8,
   "metadata": {
    "tags": [
     "hide-input"
    ]
   },
   "outputs": [
    {
     "data": {
      "text/html": [
       "\n",
       "        <iframe\n",
       "            width=\"800\"\n",
       "            height=\"1000\"\n",
       "            src=\"https://eee-apps-836a08e1d2dd.herokuapp.com/electricity-market-basics-4\"\n",
       "            frameborder=\"0\"\n",
       "            allowfullscreen\n",
       "            \n",
       "        ></iframe>\n",
       "        "
      ],
      "text/plain": [
       "<IPython.lib.display.IFrame at 0x14f82f53790>"
      ]
     },
     "execution_count": 8,
     "metadata": {},
     "output_type": "execute_result"
    }
   ],
   "source": [
    "from IPython.display import IFrame\n",
    "IFrame('https://eee-apps-836a08e1d2dd.herokuapp.com/electricity-market-basics-4', width=800, height=1000)"
   ]
  },
  {
   "cell_type": "markdown",
   "metadata": {},
   "source": [
    "## Example for Great Britain"
   ]
  },
  {
   "cell_type": "markdown",
   "metadata": {},
   "source": [
    "We have so far only explored very simplified versions of electricity markets which typically involve numerous technologies. Below shows a modelled dispatch of Great Britain's generation types in 2016."
   ]
  },
  {
   "cell_type": "markdown",
   "metadata": {},
   "source": [
    "![GB](2016_generation_dispatch.png)"
   ]
  },
  {
   "cell_type": "markdown",
   "metadata": {},
   "source": [
    "## Including technical constraints"
   ]
  },
  {
   "cell_type": "markdown",
   "metadata": {},
   "source": [
    "The examples above assumed that you could dispatch each generator at any level between 0 and its capacity. In reality, this is not the case. Conventional generators (coal, gas, etc.), in particular, generally have many constraints on their operations. Once important constraint is that they generally cannot increase or decrease their production very quickly - it takes time to make large adjustments to output, similarly to how a car cannot go from 0 to 200mph instantaneously. These constraints are called ramping constraints. They limit the amount of generation possible in a particular period to be within a given range of the generation in the previous period. Generators that are very flexible (e.g., newer gas-fired generators) can ramp quickly. Generators that are inflexible (e.g. especially older nuclear power plants) cannot ramp quickly.\n",
    "\n",
    "In addition to ramping constraints, conventional generators generally have minimum run levels. They cannot produce a positive amount below these levels. A 1GW generator might, for instance have a minimum run level of 50%, which means that it can only either generate nothing, or generate between 0.5 and 1GW. Generators therefore do not only decide how much to generate, but also whether they will generate at all. To make this more complicated, it generally takes time to start up a generator, so if a generator is turned off, it may not be able to generate anything in the immediate future. Generators might also have minimum up and down times, such that when they turn off they have to remain off for a number of periods, and when they are on, they have to remain on for a number of time periods. Decisions about being on or off are called unit commitment decisions. They are binary - units are either on (“online”) or off (“offline”). Economic dispatch problems with unit commitment constraints are sometimes called unit commitment problems."
   ]
  },
  {
   "cell_type": "markdown",
   "metadata": {},
   "source": [
    "## Markets in the real world"
   ]
  },
  {
   "cell_type": "markdown",
   "metadata": {},
   "source": [
    "The above models are representations of markets. In the real world, depending on the type of market (as we will see next week), there might be a market operator which on a regular (e.g., hourly) basis solves problems similar to those above, but with many more generators and time periods, and generally using bids that generators/consumers have declared instead of their actual costs and benefits. This market operator then instructs the generators and consumers what to do in every period, with penalties for deviating from these instruction. In other markets, such as the UK, there is no centralised dispatch - generators make their own decisions. However, if we assume perfect competition, we would get to the same solution, so large-scale versions of the\n",
    "models above can still be used by industry or by researchers to predict what will happen."
   ]
  },
  {
   "cell_type": "markdown",
   "metadata": {},
   "source": [
    "## Fun toy model"
   ]
  },
  {
   "cell_type": "markdown",
   "metadata": {},
   "source": [
    "Explore [model.energy](https://model.energy/) to explore a toy model which includes more technologies than the simple economic dispatch models used here."
   ]
  },
  {
   "cell_type": "markdown",
   "metadata": {},
   "source": [
    "## Real data"
   ]
  },
  {
   "cell_type": "markdown",
   "metadata": {},
   "source": [
    "At [epexspot.com](https://www.epexspot.com/en/market-data?market_area=GB&trading_date=2023-11-22&delivery_date=2023-11-23&underlying_year=&modality=Auction&sub_modality=DayAhead&technology=&product=60&data_mode=aggregated&period=&production_period=) you can find the results of the day ahead auction for electricity with supply-demand bid curves for every hour. This only partially maps onto the merit order curve, since electricity is also sold on other markets (e.g. over-the-counter)."
   ]
  }
 ],
 "metadata": {
  "kernelspec": {
   "display_name": "EEE",
   "language": "python",
   "name": "python3"
  },
  "language_info": {
   "codemirror_mode": {
    "name": "ipython",
    "version": 3
   },
   "file_extension": ".py",
   "mimetype": "text/x-python",
   "name": "python",
   "nbconvert_exporter": "python",
   "pygments_lexer": "ipython3",
   "version": "3.11.6"
  }
 },
 "nbformat": 4,
 "nbformat_minor": 2
}
