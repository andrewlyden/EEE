{
 "cells": [
  {
   "cell_type": "markdown",
   "metadata": {},
   "source": [
    "# Consumer Theory"
   ]
  },
  {
   "cell_type": "markdown",
   "metadata": {},
   "source": [
    "To introduce you to Consumer Theory we start with the budget constraint."
   ]
  },
  {
   "cell_type": "markdown",
   "metadata": {},
   "source": [
    "### Budget Constraint"
   ]
  },
  {
   "cell_type": "markdown",
   "metadata": {},
   "source": [
    "A person who purchases goods or services for their own usage can be considered a consumer. Consider a simple example of a consumer who, in a particular period, spends their entire income on only two things: food and fuel. For simplicity, we assume that only this period matters, i.e., the consumer does not think about the future, and money has no value in itself.\n",
    "\n",
    "The consumer in this example can only spend money on food, fuel, or a combination of both. A particular combination of goods, in this case, a combination of some units of fuel and some units of food, is called a basket or bundle. They cannot spend more then their income (= their budget). We can visualise this by drawing a budget constraint, as in the diagram below. Our consumer can spend their entire income on fuel (in which case they can buy a maximum of $\\frac{\\text{Budget}}{\\text{Price per unit of fuel}}$ units of fuel), their entire income on food (in which case they can buy a maximum of $\\frac{\\text{Budget}}{\\text{Price per unit of food}}$ units of food), or a combination of the two. They can afford any basket on the budget constraint or below it.\n",
    "\n",
    "Experiment using the diagram below."
   ]
  },
  {
   "cell_type": "code",
   "execution_count": null,
   "metadata": {},
   "outputs": [],
   "source": [
    "import pandas as pd"
   ]
  },
  {
   "cell_type": "markdown",
   "metadata": {},
   "source": [
    "Consider these questions:\n",
    "\n",
    "- How does the budget constraint shift if the consumer's income increases/decreases (e.g., because of a change in income taxes)? \n",
    "\n",
    "- How does the budget constraint shift if one of the goods becomes cheaper/more expensive (e.g., because of a subsidy or tax on that particular product)? \n",
    "\n",
    "- Do you understand why these shifts happen the way they do?"
   ]
  },
  {
   "cell_type": "markdown",
   "metadata": {},
   "source": [
    "This simple model can easily be generalised to more products, but it then becomes hard to draw pictures. Since we are often interested in markets for particular products, we might group all other products into a combined good that represents everything else. The simple two-dimensional examples below can then still be used, with one good being the good of interest, and the other good representing a combined good called “everything else” - you’d still only spend your money on these two things. The models can also be generalised to include more time periods, but this is beyond the scope of this course."
   ]
  }
 ],
 "metadata": {
  "language_info": {
   "name": "python"
  }
 },
 "nbformat": 4,
 "nbformat_minor": 2
}
