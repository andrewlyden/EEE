{
 "cells": [
  {
   "cell_type": "markdown",
   "metadata": {},
   "source": [
    "# Externalities"
   ]
  },
  {
   "cell_type": "markdown",
   "metadata": {},
   "source": [
    "Most environmental problems are caused by externalities. These are costs (or benefits) that are a result of production or consumption that do not go to the producer/consumer, and are therefore\n",
    "not taken into account by producers or consumers when they make decisions about which quantities to buy or sell. Externalities are production externalities if they are a consequence of production (e.g., carbon emissions if these are not priced or taxed, local air pollution that is a direct consequence of production, water pollution from discharge of waste water, etc.).  Consumption externalities are consequences of consumption (e.g., plastic pollution resulting from consumers disposing of packaging material inappropriately, etc.). Positive externalities occur when production or consumption has positive benefits to someone else in society that are not taken into account by the producer or consumer (e.g., using bees to pollinate crops can have benefits to others around; choosing to vaccinate yourself has benefits to society because you are less likely to infect others, etc). Negative externalities are probably more common (e.g., pollution).\n",
    "\n",
    "If a production externality occurs, the supply function does not capture the full social cost of production, but only the private cost to the producers. Sticking with perfect competition for simplicity, we can amend the standard supply/demand diagram by adding an additional social marginal cost function which if higher (if there are negative production externalities) or lower (if there are positive production externalities) than the supply function, which is the private marginal cost function. The difference between the private and social marginal cost curves is the size of the externality; the marginal external cost. In most cases, including most pollution scenarios, the marginal external cost increases with production - the higher the level of pollution already is, the worse an additional unit is, but this depends on the externality in question. In the diagram below, we assume a (linearly) increasing marginal external cost of £0.01 x quantity (i.e., if 100 units are being produced, the last one has an external cost of £1.\n",
    "\n",
    "Since producers (and consumers) do not take the external cost into account, the market, if unregulated, will still reach equilibrium at the intersection between the demand and supply ( = private marginal cost) curve. However, at that point, the quantity produced and consumed is not socially optimal. In the diagram, since there is a negative production externality, the social cost of producting the last unit is higher than the social benefit (in this case, since there are no consumption externalities, the benefit to consumers, e.t. the height of the demand curve). The social optimum is instead at the intersection of the demand curve and the social marginal cost curve, which lies at a smaller quantity and higher price. The externality therefore causes social surplus to be lower than optimal. We call this loss a deadweight loss, as it is a loss that is not compensated for by something else. The size of the deadweight loss is indicated in the figure - it is the difference between the social cost of production and the consumer benefit (the demand curve) between the optimal and market equilibria, i.e., the amount of additional cost to society, over and above the benefit consumers derive from obtaining the product minus the private costs of production. When calculating social surplus, we have to subtract this deadweight loss.\n",
    "\n",
    "Experiment using the diagram below. When is the deadweight loss large? When is it negligible? Do you understand why this is the case?"
   ]
  },
  {
   "cell_type": "code",
   "execution_count": 3,
   "metadata": {
    "tags": [
     "hide-input"
    ]
   },
   "outputs": [
    {
     "data": {
      "text/html": [
       "\n",
       "        <iframe\n",
       "            width=\"800\"\n",
       "            height=\"850\"\n",
       "            src=\"https://eee-apps-836a08e1d2dd.herokuapp.com/externalities-1\"\n",
       "            frameborder=\"0\"\n",
       "            allowfullscreen\n",
       "            \n",
       "        ></iframe>\n",
       "        "
      ],
      "text/plain": [
       "<IPython.lib.display.IFrame at 0x2bb70c4e8d0>"
      ]
     },
     "execution_count": 3,
     "metadata": {},
     "output_type": "execute_result"
    }
   ],
   "source": [
    "from IPython.display import IFrame\n",
    "IFrame('https://eee-apps-836a08e1d2dd.herokuapp.com/externalities-1', width=800, height=850)"
   ]
  },
  {
   "cell_type": "markdown",
   "metadata": {},
   "source": [
    "## Correcting an externality with taxes"
   ]
  },
  {
   "cell_type": "markdown",
   "metadata": {},
   "source": [
    "Since externalities imply that the market equilibrium does not lead to the maximum social welfare, there is a potential for policy to increase welfare. There are a number of ways to do this, and how they work depend on whether it is possible to address the cause of the externality (e.g., whether it is possible to change production processes to bring the marginal external cost curve itself down) or whether it is only possible to reduce quantities produced. We will analyse the second case with a different set of models, but in this notebook, we focus on a case where the marginal external cost curve cannot be changed - i.e., production is unavoidably linked to pollution. In this case, we will still like to make sure that social welfare is maximised. We can do this with taxation that internalises the externality, i.e. makes the producers pay for their pollution and therefore bringing the external costs into their optimisation problem. \n",
    "\n",
    "So, ideally, we’d like to increase the private marginal cost curve such that it matches the social marginal cost curve. Hower, in practice, it is usually difficult to set tax rates that vary with the level of production (and therefore also vary across producers, if there are multiple). Constant per-unit taxes are much easier - these would force producers to pay a fixed amount for each unit they produce, and therefore shift the supply curve straight up, without changing its slope. The good news is that this can still achieve the social optimum if we set the tax rate correctly. Using the diagram below, experiment with the tax rate (if you choose a negative value for the tax, this is effectively setting a subsidy). When is the social optimum achieved? (i.e. when is the deadweight loss eliminated?). Why?"
   ]
  },
  {
   "cell_type": "code",
   "execution_count": 6,
   "metadata": {
    "tags": [
     "hide-input"
    ]
   },
   "outputs": [
    {
     "data": {
      "text/html": [
       "\n",
       "        <iframe\n",
       "            width=\"800\"\n",
       "            height=\"950\"\n",
       "            src=\"https://eee-apps-836a08e1d2dd.herokuapp.com/externalities-2\"\n",
       "            frameborder=\"0\"\n",
       "            allowfullscreen\n",
       "            \n",
       "        ></iframe>\n",
       "        "
      ],
      "text/plain": [
       "<IPython.lib.display.IFrame at 0x2bb70c4d890>"
      ]
     },
     "execution_count": 6,
     "metadata": {},
     "output_type": "execute_result"
    }
   ],
   "source": [
    "from IPython.display import IFrame\n",
    "IFrame('https://eee-apps-836a08e1d2dd.herokuapp.com/externalities-2', width=800, height=950)"
   ]
  }
 ],
 "metadata": {
  "kernelspec": {
   "display_name": "EEE",
   "language": "python",
   "name": "python3"
  },
  "language_info": {
   "codemirror_mode": {
    "name": "ipython",
    "version": 3
   },
   "file_extension": ".py",
   "mimetype": "text/x-python",
   "name": "python",
   "nbconvert_exporter": "python",
   "pygments_lexer": "ipython3",
   "version": "3.11.6"
  }
 },
 "nbformat": 4,
 "nbformat_minor": 2
}
